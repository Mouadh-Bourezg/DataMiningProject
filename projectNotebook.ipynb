{
 "cells": [
  {
   "cell_type": "markdown",
   "metadata": {},
   "source": [
    "# ----"
   ]
  },
  {
   "cell_type": "code",
   "execution_count": 1,
   "metadata": {},
   "outputs": [],
   "source": [
    "import pandas as pd\n",
    "import numpy as np"
   ]
  },
  {
   "cell_type": "code",
   "execution_count": null,
   "metadata": {},
   "outputs": [],
   "source": [
    "LSD_Stats_Df = pd.read_csv(\"LSD-Stats-2024.csv\")\n",
    "LSD_Stats_Df"
   ]
  },
  {
   "cell_type": "code",
   "execution_count": null,
   "metadata": {},
   "outputs": [],
   "source": [
    "Herbaceous_Crops_Df = pd.read_csv(\"Herbaceous-Crops-2024.csv\")\n",
    "Herbaceous_Crops_Df"
   ]
  },
  {
   "cell_type": "code",
   "execution_count": null,
   "metadata": {},
   "outputs": [],
   "source": [
    "Total_SAU_Df = pd.read_csv(\"Total-SAU-2024.csv\")\n",
    "Total_SAU_Df"
   ]
  },
  {
   "cell_type": "code",
   "execution_count": null,
   "metadata": {},
   "outputs": [],
   "source": [
    "Environmental_Data_Df = pd.read_csv(\"Environmental-Data-2024.csv\")\n",
    "Environmental_Data_Df"
   ]
  },
  {
   "cell_type": "code",
   "execution_count": 7,
   "metadata": {},
   "outputs": [
    {
     "data": {
      "text/plain": [
       "array(['ADRAR', 'CHLEF', 'LAGHOUAT', 'OUM EL BOUAGHI', 'BATNA', 'BEJAIA',\n",
       "       'BISKRA', 'BECHAR', 'BLIDA', 'BOUIRA', 'TAMANRASSET', 'TEBESSA',\n",
       "       'TLEMCEN', 'TIARET', 'TIZI OUZOU', 'ALGIERS', 'DJELFA', 'JIJEL',\n",
       "       'SETIF', 'SAIDA', 'SKIKDA', 'SIDI BEL ABBES', 'ANNABA', 'GUELMA',\n",
       "       'CONSTANTINE', 'MEDEA', 'MOSTAGANEM', \"M'SILA\", 'MASCARA',\n",
       "       'OUARGLA', 'ORAN', 'EL BAYADH', 'ILLIZI', 'BORDJ BOU ARRERIDJ',\n",
       "       'BOUMERDES', 'EL TARF', 'TINDOUF', 'TISSEMSILT', 'EL OUED',\n",
       "       'KHENCHELA', 'SOUK AHRAS', 'TIPAZA', 'MILA', 'AIN DEFLA', 'NAAMA',\n",
       "       'AIN TEMOUCHENT', 'GHARDAIA', 'RELIZANE'], dtype=object)"
      ]
     },
     "execution_count": 7,
     "metadata": {},
     "output_type": "execute_result"
    }
   ],
   "source": [
    "Environmental_Data_Df.Wilaya.unique()"
   ]
  }
 ],
 "metadata": {
  "kernelspec": {
   "display_name": "Python 3",
   "language": "python",
   "name": "python3"
  },
  "language_info": {
   "codemirror_mode": {
    "name": "ipython",
    "version": 3
   },
   "file_extension": ".py",
   "mimetype": "text/x-python",
   "name": "python",
   "nbconvert_exporter": "python",
   "pygments_lexer": "ipython3",
   "version": "3.12.1"
  }
 },
 "nbformat": 4,
 "nbformat_minor": 2
}
